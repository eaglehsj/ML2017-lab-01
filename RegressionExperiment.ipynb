{
 "cells": [
  {
   "cell_type": "code",
   "execution_count": 5,
   "metadata": {},
   "outputs": [
    {
     "data": {
      "image/png": "[encoded data removed]",
      "text/plain": [
       "<matplotlib.figure.Figure at 0xae89e48>"
      ]
     },
     "metadata": {},
     "output_type": "display_data"
    }
   ],
   "source": [
    "from sklearn.datasets import load_svmlight_file\n",
    "from sklearn.model_selection import train_test_split\n",
    "import numpy as np\n",
    "from matplotlib import pyplot\n",
    "train,target=load_svmlight_file('F:\\housing_scale')#read data\n",
    "x_train,x_test, y_train,y_test = train_test_split(train,target,test_size = 0.2,random_state = 0)#切分数据集\n",
    "\n",
    "#compuet loss\n",
    "def computeCost(X, y, theta):\n",
    "    m = y.shape[0]\n",
    "    J = (np.sum((X.dot(theta) - y)**2)) / (2*m) \n",
    "    return J\n",
    "\n",
    "def gradientDescent(X, y, theta, alpha, num_iters):\n",
    "    m = y.shape[0]\n",
    "    # loss\n",
    "    J_history = np.zeros((num_iters, 1))\n",
    "    for iter in range(num_iters):\n",
    "        J_history[iter] = computeCost(X, y, theta)\n",
    "        theta = theta - (alpha/m) * (X.T.dot(X.dot(theta) - y))\n",
    "    return theta,J_history\n",
    "\n",
    "m, n = np.shape(x_train)\n",
    "theta= np.zeros((n,1))#init parameter\n",
    "alpha = 0.001#learnrate\n",
    "maxIteration = 10000#Iteration number\n",
    "y_train=y_train.reshape(m,1)\n",
    "m, n = np.shape(x_test)\n",
    "y_test=y_test.reshape(m,1)\n",
    "theta_train,loss_iteration_train = gradientDescent(x_train,y_train, theta, alpha, maxIteration)\n",
    "theta_test,loss_iteration_test = gradientDescent(x_test,y_test, theta, alpha, maxIteration)\n",
    "pyplot.plot(loss_iteration_train, mfc='w',label='train')\n",
    "pyplot.plot(loss_iteration_test, mfc='w',label='test')\n",
    "pyplot.legend()\n",
    "pyplot.xlabel(\"iteration\")\n",
    "pyplot.ylabel(\"loss\")\n",
    "pyplot.show()"
   ]
  },
  {
   "cell_type": "code",
   "execution_count": null,
   "metadata": {
    "collapsed": true
   },
   "outputs": [],
   "source": []
  },
  {
   "cell_type": "code",
   "execution_count": null,
   "metadata": {
    "collapsed": true
   },
   "outputs": [],
   "source": []
  },
  {
   "cell_type": "code",
   "execution_count": null,
   "metadata": {
    "collapsed": true
   },
   "outputs": [],
   "source": []
  }
 ],
 "metadata": {
  "kernelspec": {
   "display_name": "Python 3",
   "language": "python",
   "name": "python3"
  },
  "language_info": {
   "codemirror_mode": {
    "name": "ipython",
    "version": 3
   },
   "file_extension": ".py",
   "mimetype": "text/x-python",
   "name": "python",
   "nbconvert_exporter": "python",
   "pygments_lexer": "ipython3",
   "version": "3.6.3"
  }
 },
 "nbformat": 4,
 "nbformat_minor": 2
}
