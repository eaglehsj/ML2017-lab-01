{
 "cells": [
  {
   "cell_type": "code",
   "execution_count": 5,
   "metadata": {},
   "outputs": [
    {
     "data": {
      "image/png": "[encoded data removed]",
      "text/plain": [
       "<matplotlib.figure.Figure at 0xc3a5128>"
      ]
     },
     "metadata": {},
     "output_type": "display_data"
    }
   ],
   "source": [
    "from sklearn.datasets import load_svmlight_file\n",
    "import matplotlib.pyplot as plt\n",
    "from sklearn.model_selection import train_test_split\n",
    "import numpy as np\n",
    "from matplotlib import pyplot\n",
    "import pandas as pd\n",
    "X,y=load_svmlight_file(r'F:\\\\australian_scale')\n",
    "X_train,X_validation,y_train,y_validation=train_test_split(X,y,test_size=0.25)#分割数据集\n",
    "y_train=np.reshape(y_train,(len(y_train),1))\n",
    "y=np.mat(y)\n",
    "#添加一列1在最后一列\n",
    "b=np.ones((np.shape(X_train)[0],1))\n",
    "#print(X_train.shape)\n",
    "X_train=np.column_stack((X_train.toarray(),b))\n",
    "#print(X_train.shape)\n",
    "b1=np.ones((np.shape(X_validation)[0],1))\n",
    "X_validation=np.column_stack((X_validation.toarray(),b1))\n",
    "m=X_train.shape[1]\n",
    "loss_train=[]#训练集误差\n",
    "loss_validation=[]#交叉集误差\n",
    "w = np.zeros((15,))\n",
    "C = 0.2\n",
    "iteration = 500\n",
    "learning_rate = 0.05\n",
    "def get_loss(X,w,y):\n",
    "    loss=0\n",
    "    for i in range(X.shape[0]):\n",
    "        #loss+=max(0,1-np.sum((y.T)*np.dot(X,w)))\n",
    "        loss+=max(0,1-y[i]*np.dot(w.T,X[i]))\n",
    "    loss=(C/X.shape[0])*loss+1/2*(w.T.dot(w))\n",
    "    return loss\n",
    "\n",
    "def gradient(X,w,y):\n",
    "    sum = 0\n",
    "    for j in range(X.shape[0]):\n",
    "        if (1-y[j]*np.dot(w.T,X[j]))>=0:\n",
    "            sum+=-y[j]*X[j]\n",
    "    w = w + (C/X.shape[0])*sum\n",
    "    return w\n",
    "\n",
    "    \n",
    "    # w初始化为1 维度m*1\n",
    "loss_train=[]\n",
    "loss_validation=[]\n",
    "for i in range(0,iteration):#it次迭代\n",
    "    gra=gradient(X_train,w,y_train)\n",
    "    w=w-learning_rate*gra\n",
    "    loss_train.append(get_loss(X_train,w,y_train))\n",
    "    loss_validation.append(get_loss(X_validation,w,y_validation))\n",
    "\n",
    "pyplot.plot(loss_train, mfc='w',label='train')\n",
    "pyplot.plot(loss_validation, mfc='w',label='test')\n",
    "pyplot.legend()\n",
    "pyplot.xlabel(\"iteration\")\n",
    "pyplot.ylabel(\"loss\")\n",
    "pyplot.show()\n"
   ]
  },
  {
   "cell_type": "code",
   "execution_count": null,
   "metadata": {
    "collapsed": true
   },
   "outputs": [],
   "source": []
  },
  {
   "cell_type": "code",
   "execution_count": null,
   "metadata": {
    "collapsed": true
   },
   "outputs": [],
   "source": []
  },
  {
   "cell_type": "code",
   "execution_count": null,
   "metadata": {
    "collapsed": true
   },
   "outputs": [],
   "source": []
  },
  {
   "cell_type": "code",
   "execution_count": null,
   "metadata": {
    "collapsed": true
   },
   "outputs": [],
   "source": []
  },
  {
   "cell_type": "code",
   "execution_count": null,
   "metadata": {
    "collapsed": true
   },
   "outputs": [],
   "source": []
  },
  {
   "cell_type": "code",
   "execution_count": null,
   "metadata": {
    "collapsed": true
   },
   "outputs": [],
   "source": []
  },
  {
   "cell_type": "code",
   "execution_count": null,
   "metadata": {
    "collapsed": true
   },
   "outputs": [],
   "source": []
  },
  {
   "cell_type": "code",
   "execution_count": null,
   "metadata": {
    "collapsed": true
   },
   "outputs": [],
   "source": []
  },
  {
   "cell_type": "code",
   "execution_count": null,
   "metadata": {
    "collapsed": true
   },
   "outputs": [],
   "source": []
  },
  {
   "cell_type": "code",
   "execution_count": null,
   "metadata": {
    "collapsed": true
   },
   "outputs": [],
   "source": []
  }
 ],
 "metadata": {
  "kernelspec": {
   "display_name": "Python 3",
   "language": "python",
   "name": "python3"
  },
  "language_info": {
   "codemirror_mode": {
    "name": "ipython",
    "version": 3
   },
   "file_extension": ".py",
   "mimetype": "text/x-python",
   "name": "python",
   "nbconvert_exporter": "python",
   "pygments_lexer": "ipython3",
   "version": "3.6.3"
  }
 },
 "nbformat": 4,
 "nbformat_minor": 2
}
